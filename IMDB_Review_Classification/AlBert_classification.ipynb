{
 "cells": [
  {
   "cell_type": "markdown",
   "metadata": {},
   "source": [
    "# IMDB数据集分类-----AlBert"
   ]
  },
  {
   "cell_type": "code",
   "execution_count": 1,
   "metadata": {},
   "outputs": [
    {
     "name": "stderr",
     "output_type": "stream",
     "text": [
      "c:\\Users\\89556\\.conda\\envs\\DL\\lib\\site-packages\\tqdm\\auto.py:21: TqdmWarning: IProgress not found. Please update jupyter and ipywidgets. See https://ipywidgets.readthedocs.io/en/stable/user_install.html\n",
      "  from .autonotebook import tqdm as notebook_tqdm\n"
     ]
    },
    {
     "name": "stdout",
     "output_type": "stream",
     "text": [
      "Using device: cuda\n"
     ]
    },
    {
     "name": "stderr",
     "output_type": "stream",
     "text": [
      "Some weights of AlbertForSequenceClassification were not initialized from the model checkpoint at ./albert_base_v2/ and are newly initialized: ['classifier.bias', 'classifier.weight']\n",
      "You should probably TRAIN this model on a down-stream task to be able to use it for predictions and inference.\n",
      "c:\\Users\\89556\\.conda\\envs\\DL\\lib\\site-packages\\transformers\\models\\albert\\modeling_albert.py:404: UserWarning: 1Torch was not compiled with flash attention. (Triggered internally at C:\\cb\\pytorch_1000000000000\\work\\aten\\src\\ATen\\native\\transformers\\cuda\\sdp_utils.cpp:555.)\n",
      "  attention_output = torch.nn.functional.scaled_dot_product_attention(\n"
     ]
    },
    {
     "name": "stdout",
     "output_type": "stream",
     "text": [
      "Epoch 1/8, Loss: 0.3352, Accuracy: 0.8510\n",
      "Epoch 2/8, Loss: 0.2309, Accuracy: 0.9055\n",
      "Epoch 3/8, Loss: 0.1687, Accuracy: 0.9337\n",
      "Epoch 4/8, Loss: 0.1243, Accuracy: 0.9544\n",
      "Epoch 5/8, Loss: 0.0932, Accuracy: 0.9682\n",
      "Epoch 6/8, Loss: 0.0498, Accuracy: 0.9832\n",
      "Epoch 7/8, Loss: 0.0438, Accuracy: 0.9854\n",
      "Epoch 8/8, Loss: 0.0393, Accuracy: 0.9866\n",
      "Test Accuracy: 0.8828\n"
     ]
    }
   ],
   "source": [
    "import torch\n",
    "from torch.utils.data import Dataset, DataLoader\n",
    "from transformers import AlbertTokenizer, AlbertForSequenceClassification\n",
    "import os\n",
    "import glob\n",
    "\n",
    "# 检查是否有可用的 GPU\n",
    "device = torch.device(\"cuda\" if torch.cuda.is_available() else \"cpu\")\n",
    "print(f\"Using device: {device}\")\n",
    "\n",
    "# 数据集类，用于加载和处理数据\n",
    "class IMDBDataset(Dataset):\n",
    "    def __init__(self, texts, labels, tokenizer, max_length=128):\n",
    "        self.texts = texts\n",
    "        self.labels = labels\n",
    "        self.tokenizer = tokenizer\n",
    "        self.max_length = max_length\n",
    "\n",
    "    def __len__(self):\n",
    "        return len(self.labels)\n",
    "\n",
    "    def __getitem__(self, idx):\n",
    "        text = self.texts[idx]\n",
    "        label = self.labels[idx]\n",
    "        # Tokenizer encode\n",
    "        encoding = self.tokenizer(\n",
    "            text,\n",
    "            padding='max_length',\n",
    "            truncation=True,\n",
    "            max_length=self.max_length,\n",
    "            return_tensors=\"pt\"\n",
    "        )\n",
    "        return {\n",
    "            'input_ids': encoding['input_ids'].squeeze(0),\n",
    "            'attention_mask': encoding['attention_mask'].squeeze(0),\n",
    "            'label': torch.tensor(label, dtype=torch.long)\n",
    "        }\n",
    "\n",
    "# 数据预处理函数，读取数据并分词\n",
    "def preprocess_data(data_dir):\n",
    "    texts = []\n",
    "    labels = []\n",
    "    for label in [\"pos\", \"neg\"]:\n",
    "        file_paths = glob.glob(os.path.join(data_dir, label, \"*.txt\"))\n",
    "        for file_path in file_paths:\n",
    "            with open(file_path, 'r', encoding='utf-8') as f:\n",
    "                text = f.read().strip()\n",
    "                texts.append(text)\n",
    "                labels.append(0 if label == \"pos\" else 1)  # 标签：正面为0，负面为1\n",
    "    return texts, labels\n",
    "\n",
    "# 加载 IMDB 数据集\n",
    "train_data_dir = \"./aclImdb/train\"\n",
    "test_data_dir = \"./aclImdb/test\"\n",
    "\n",
    "train_texts, train_labels = preprocess_data(train_data_dir)\n",
    "test_texts, test_labels = preprocess_data(test_data_dir)\n",
    "\n",
    "# 加载本地 ALBERT tokenizer 和模型\n",
    "model_dir = \"./albert_base_v2/\"  # 本地模型路径\n",
    "tokenizer = AlbertTokenizer.from_pretrained(model_dir)\n",
    "model = AlbertForSequenceClassification.from_pretrained(model_dir, num_labels=2).to(device)\n",
    "\n",
    "# 定义数据集和 DataLoader\n",
    "train_dataset = IMDBDataset(train_texts, train_labels, tokenizer)\n",
    "test_dataset = IMDBDataset(test_texts, test_labels, tokenizer)\n",
    "\n",
    "batch_size = 32\n",
    "train_dataloader = DataLoader(train_dataset, batch_size=batch_size, shuffle=True)\n",
    "test_dataloader = DataLoader(test_dataset, batch_size=batch_size, shuffle=False)\n",
    "\n",
    "# 定义优化器和损失函数\n",
    "optimizer = torch.optim.AdamW(model.parameters(), lr=2e-5)\n",
    "criterion = torch.nn.CrossEntropyLoss()\n",
    "\n",
    "# 训练模型\n",
    "num_epochs = 8\n",
    "for epoch in range(num_epochs):\n",
    "    model.train()\n",
    "    total_loss, total_correct = 0, 0\n",
    "\n",
    "    for batch in train_dataloader:\n",
    "        input_ids = batch['input_ids'].to(device)\n",
    "        attention_mask = batch['attention_mask'].to(device)\n",
    "        labels = batch['label'].to(device)\n",
    "\n",
    "        optimizer.zero_grad()\n",
    "        outputs = model(input_ids=input_ids, attention_mask=attention_mask, labels=labels)\n",
    "        loss = outputs.loss\n",
    "        logits = outputs.logits\n",
    "\n",
    "        loss.backward()\n",
    "        optimizer.step()\n",
    "\n",
    "        total_loss += loss.item()\n",
    "        total_correct += (logits.argmax(1) == labels).sum().item()\n",
    "\n",
    "    print(f\"Epoch {epoch + 1}/{num_epochs}, Loss: {total_loss / len(train_dataloader):.4f}, \"\n",
    "          f\"Accuracy: {total_correct / len(train_dataset):.4f}\")\n",
    "\n",
    "# 测试模型\n",
    "model.eval()\n",
    "total_correct = 0\n",
    "with torch.no_grad():\n",
    "    for batch in test_dataloader:\n",
    "        input_ids = batch['input_ids'].to(device)\n",
    "        attention_mask = batch['attention_mask'].to(device)\n",
    "        labels = batch['label'].to(device)\n",
    "\n",
    "        outputs = model(input_ids=input_ids, attention_mask=attention_mask)\n",
    "        logits = outputs.logits\n",
    "        total_correct += (logits.argmax(1) == labels).sum().item()\n",
    "\n",
    "test_accuracy = total_correct / len(test_dataset)\n",
    "print(f\"Test Accuracy: {test_accuracy:.4f}\")\n"
   ]
  }
 ],
 "metadata": {
  "kernelspec": {
   "display_name": "DL",
   "language": "python",
   "name": "python3"
  },
  "language_info": {
   "codemirror_mode": {
    "name": "ipython",
    "version": 3
   },
   "file_extension": ".py",
   "mimetype": "text/x-python",
   "name": "python",
   "nbconvert_exporter": "python",
   "pygments_lexer": "ipython3",
   "version": "3.8.20"
  }
 },
 "nbformat": 4,
 "nbformat_minor": 2
}
