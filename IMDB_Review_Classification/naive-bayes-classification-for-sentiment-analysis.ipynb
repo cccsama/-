{
 "cells": [
  {
   "cell_type": "markdown",
   "metadata": {},
   "source": [
    "#  Naive Bayes Classification for Sentiment Analysis on IMDB Movie Reviews"
   ]
  },
  {
   "cell_type": "markdown",
   "metadata": {},
   "source": [
    "**Import the required library**"
   ]
  },
  {
   "cell_type": "code",
   "execution_count": 2,
   "metadata": {
    "_cell_guid": "b1076dfc-b9ad-4769-8c92-a6c4dae69d19",
    "_uuid": "8f2839f25d086af736a60e9eeb907d3b93b6e0e5",
    "execution": {
     "iopub.execute_input": "2024-06-02T06:31:08.057051Z",
     "iopub.status.busy": "2024-06-02T06:31:08.05669Z",
     "iopub.status.idle": "2024-06-02T06:31:08.063077Z",
     "shell.execute_reply": "2024-06-02T06:31:08.061185Z",
     "shell.execute_reply.started": "2024-06-02T06:31:08.057025Z"
    },
    "trusted": true
   },
   "outputs": [],
   "source": [
    "\n",
    "import numpy as np # linear algebra\n",
    "import pandas as pd # data processing, CSV file I/O (e.g. pd.read_csv)\n",
    "import os\n"
   ]
  },
  {
   "cell_type": "markdown",
   "metadata": {},
   "source": [
    "# Preprocessing data"
   ]
  },
  {
   "cell_type": "markdown",
   "metadata": {},
   "source": [
    "**1. Reading dataset**"
   ]
  },
  {
   "cell_type": "code",
   "execution_count": 3,
   "metadata": {
    "execution": {
     "iopub.execute_input": "2024-06-02T06:31:08.066814Z",
     "iopub.status.busy": "2024-06-02T06:31:08.065439Z",
     "iopub.status.idle": "2024-06-02T06:31:08.076829Z",
     "shell.execute_reply": "2024-06-02T06:31:08.075143Z",
     "shell.execute_reply.started": "2024-06-02T06:31:08.066765Z"
    },
    "trusted": true
   },
   "outputs": [],
   "source": [
    "data_dir = 'aclImdb'"
   ]
  },
  {
   "cell_type": "code",
   "execution_count": 4,
   "metadata": {
    "execution": {
     "iopub.execute_input": "2024-06-02T06:31:08.07912Z",
     "iopub.status.busy": "2024-06-02T06:31:08.078409Z",
     "iopub.status.idle": "2024-06-02T06:31:08.098583Z",
     "shell.execute_reply": "2024-06-02T06:31:08.097416Z",
     "shell.execute_reply.started": "2024-06-02T06:31:08.079075Z"
    },
    "trusted": true
   },
   "outputs": [],
   "source": [
    "folders = [\n",
    "    ('train', 'neg', 'negative'),\n",
    "    ('train', 'pos', 'positive'),\n",
    "    ('test', 'neg', 'negative'),\n",
    "    ('test', 'pos', 'positive')\n",
    "]\n",
    "data = []"
   ]
  },
  {
   "cell_type": "code",
   "execution_count": 5,
   "metadata": {
    "execution": {
     "iopub.execute_input": "2024-06-02T06:31:08.101976Z",
     "iopub.status.busy": "2024-06-02T06:31:08.101564Z",
     "iopub.status.idle": "2024-06-02T06:31:35.57542Z",
     "shell.execute_reply": "2024-06-02T06:31:35.574123Z",
     "shell.execute_reply.started": "2024-06-02T06:31:08.101945Z"
    },
    "trusted": true
   },
   "outputs": [],
   "source": [
    "for split, sentiment, label in folders:\n",
    "    folder_path = os.path.join(data_dir, split, sentiment)\n",
    "    for filename in os.listdir(folder_path):\n",
    "        with open(os.path.join(folder_path, filename), 'r', encoding='utf-8') as file:\n",
    "            text = file.read()\n",
    "            data.append({ 'split': split, 'label': label,'text': text})\n",
    "df = pd.DataFrame(data)\n"
   ]
  },
  {
   "cell_type": "markdown",
   "metadata": {},
   "source": [
    "Data infor"
   ]
  },
  {
   "cell_type": "code",
   "execution_count": 6,
   "metadata": {
    "execution": {
     "iopub.execute_input": "2024-06-02T06:31:35.577731Z",
     "iopub.status.busy": "2024-06-02T06:31:35.576758Z",
     "iopub.status.idle": "2024-06-02T06:31:35.585411Z",
     "shell.execute_reply": "2024-06-02T06:31:35.584311Z",
     "shell.execute_reply.started": "2024-06-02T06:31:35.577694Z"
    },
    "trusted": true
   },
   "outputs": [
    {
     "name": "stdout",
     "output_type": "stream",
     "text": [
      "      split     label                                               text\n",
      "49995  test  positive  I was extraordinarily impressed by this film. ...\n",
      "49996  test  positive  Although I'm not a golf fan, I attended a snea...\n",
      "49997  test  positive  From the start of \"The Edge Of Love\", the view...\n",
      "49998  test  positive  This movie, with all its complexity and subtle...\n",
      "49999  test  positive  I've seen this story before but my kids haven'...\n"
     ]
    }
   ],
   "source": [
    "print(df.tail())"
   ]
  },
  {
   "cell_type": "code",
   "execution_count": 7,
   "metadata": {
    "execution": {
     "iopub.execute_input": "2024-06-02T06:31:35.587116Z",
     "iopub.status.busy": "2024-06-02T06:31:35.586783Z",
     "iopub.status.idle": "2024-06-02T06:31:35.616413Z",
     "shell.execute_reply": "2024-06-02T06:31:35.615357Z",
     "shell.execute_reply.started": "2024-06-02T06:31:35.587089Z"
    },
    "trusted": true
   },
   "outputs": [
    {
     "name": "stdout",
     "output_type": "stream",
     "text": [
      "<class 'pandas.core.frame.DataFrame'>\n",
      "RangeIndex: 50000 entries, 0 to 49999\n",
      "Data columns (total 3 columns):\n",
      " #   Column  Non-Null Count  Dtype \n",
      "---  ------  --------------  ----- \n",
      " 0   split   50000 non-null  object\n",
      " 1   label   50000 non-null  object\n",
      " 2   text    50000 non-null  object\n",
      "dtypes: object(3)\n",
      "memory usage: 1.1+ MB\n"
     ]
    }
   ],
   "source": [
    "df.info()"
   ]
  },
  {
   "cell_type": "markdown",
   "metadata": {},
   "source": [
    "**Here are some samples of negative reviews in the test kit**"
   ]
  },
  {
   "cell_type": "code",
   "execution_count": 8,
   "metadata": {
    "execution": {
     "iopub.execute_input": "2024-06-02T06:31:35.618462Z",
     "iopub.status.busy": "2024-06-02T06:31:35.618022Z",
     "iopub.status.idle": "2024-06-02T06:31:35.634415Z",
     "shell.execute_reply": "2024-06-02T06:31:35.633084Z",
     "shell.execute_reply.started": "2024-06-02T06:31:35.618425Z"
    },
    "trusted": true
   },
   "outputs": [],
   "source": [
    "test_negative_reviews = df[(df['split'] == 'test') & (df['label'] == 'negative')]"
   ]
  },
  {
   "cell_type": "code",
   "execution_count": 9,
   "metadata": {
    "execution": {
     "iopub.execute_input": "2024-06-02T06:31:35.636551Z",
     "iopub.status.busy": "2024-06-02T06:31:35.636227Z",
     "iopub.status.idle": "2024-06-02T06:31:35.649809Z",
     "shell.execute_reply": "2024-06-02T06:31:35.648686Z",
     "shell.execute_reply.started": "2024-06-02T06:31:35.636526Z"
    },
    "trusted": true
   },
   "outputs": [
    {
     "data": {
      "text/html": [
       "<div>\n",
       "<style scoped>\n",
       "    .dataframe tbody tr th:only-of-type {\n",
       "        vertical-align: middle;\n",
       "    }\n",
       "\n",
       "    .dataframe tbody tr th {\n",
       "        vertical-align: top;\n",
       "    }\n",
       "\n",
       "    .dataframe thead th {\n",
       "        text-align: right;\n",
       "    }\n",
       "</style>\n",
       "<table border=\"1\" class=\"dataframe\">\n",
       "  <thead>\n",
       "    <tr style=\"text-align: right;\">\n",
       "      <th></th>\n",
       "      <th>split</th>\n",
       "      <th>label</th>\n",
       "      <th>text</th>\n",
       "    </tr>\n",
       "  </thead>\n",
       "  <tbody>\n",
       "    <tr>\n",
       "      <th>25000</th>\n",
       "      <td>test</td>\n",
       "      <td>negative</td>\n",
       "      <td>Once again Mr. Costner has dragged out a movie...</td>\n",
       "    </tr>\n",
       "    <tr>\n",
       "      <th>25001</th>\n",
       "      <td>test</td>\n",
       "      <td>negative</td>\n",
       "      <td>This is an example of why the majority of acti...</td>\n",
       "    </tr>\n",
       "    <tr>\n",
       "      <th>25002</th>\n",
       "      <td>test</td>\n",
       "      <td>negative</td>\n",
       "      <td>First of all I hate those moronic rappers, who...</td>\n",
       "    </tr>\n",
       "    <tr>\n",
       "      <th>25003</th>\n",
       "      <td>test</td>\n",
       "      <td>negative</td>\n",
       "      <td>Not even the Beatles could write songs everyon...</td>\n",
       "    </tr>\n",
       "    <tr>\n",
       "      <th>25004</th>\n",
       "      <td>test</td>\n",
       "      <td>negative</td>\n",
       "      <td>Brass pictures (movies is not a fitting word f...</td>\n",
       "    </tr>\n",
       "  </tbody>\n",
       "</table>\n",
       "</div>"
      ],
      "text/plain": [
       "      split     label                                               text\n",
       "25000  test  negative  Once again Mr. Costner has dragged out a movie...\n",
       "25001  test  negative  This is an example of why the majority of acti...\n",
       "25002  test  negative  First of all I hate those moronic rappers, who...\n",
       "25003  test  negative  Not even the Beatles could write songs everyon...\n",
       "25004  test  negative  Brass pictures (movies is not a fitting word f..."
      ]
     },
     "execution_count": 9,
     "metadata": {},
     "output_type": "execute_result"
    }
   ],
   "source": [
    "test_negative_reviews.head()"
   ]
  },
  {
   "cell_type": "markdown",
   "metadata": {},
   "source": [
    " **2. Separate training and test sets:**"
   ]
  },
  {
   "cell_type": "code",
   "execution_count": 10,
   "metadata": {
    "execution": {
     "iopub.execute_input": "2024-06-02T06:31:35.652308Z",
     "iopub.status.busy": "2024-06-02T06:31:35.651425Z",
     "iopub.status.idle": "2024-06-02T06:31:35.667729Z",
     "shell.execute_reply": "2024-06-02T06:31:35.666511Z",
     "shell.execute_reply.started": "2024-06-02T06:31:35.652266Z"
    },
    "trusted": true
   },
   "outputs": [],
   "source": [
    "from sklearn.model_selection import train_test_split\n",
    "X = df['text']\n",
    "y = df['label']\n",
    "X_train, X_test, y_train, y_test = train_test_split(X, y, test_size=0.2, random_state=1)"
   ]
  },
  {
   "cell_type": "markdown",
   "metadata": {},
   "source": [
    " 20% of the data will be selected as a test set and the remaining 80% will be  a training set.\n",
    " ran_state = 1 will return the same dataset when random the next time.\n",
    " "
   ]
  },
  {
   "cell_type": "code",
   "execution_count": 11,
   "metadata": {
    "execution": {
     "iopub.execute_input": "2024-06-02T06:31:35.672489Z",
     "iopub.status.busy": "2024-06-02T06:31:35.672142Z",
     "iopub.status.idle": "2024-06-02T06:31:35.686318Z",
     "shell.execute_reply": "2024-06-02T06:31:35.684837Z",
     "shell.execute_reply.started": "2024-06-02T06:31:35.672463Z"
    },
    "trusted": true
   },
   "outputs": [
    {
     "data": {
      "text/html": [
       "<div>\n",
       "<style scoped>\n",
       "    .dataframe tbody tr th:only-of-type {\n",
       "        vertical-align: middle;\n",
       "    }\n",
       "\n",
       "    .dataframe tbody tr th {\n",
       "        vertical-align: top;\n",
       "    }\n",
       "\n",
       "    .dataframe thead th {\n",
       "        text-align: right;\n",
       "    }\n",
       "</style>\n",
       "<table border=\"1\" class=\"dataframe\">\n",
       "  <thead>\n",
       "    <tr style=\"text-align: right;\">\n",
       "      <th></th>\n",
       "      <th>text</th>\n",
       "      <th>Label</th>\n",
       "    </tr>\n",
       "  </thead>\n",
       "  <tbody>\n",
       "    <tr>\n",
       "      <th>18165</th>\n",
       "      <td>The film version of Alice Walker's hugely emot...</td>\n",
       "      <td>positive</td>\n",
       "    </tr>\n",
       "    <tr>\n",
       "      <th>36059</th>\n",
       "      <td>I as a Christian am outraged after seeing just...</td>\n",
       "      <td>negative</td>\n",
       "    </tr>\n",
       "    <tr>\n",
       "      <th>13242</th>\n",
       "      <td>This movie will always be a Broadway and Movie...</td>\n",
       "      <td>positive</td>\n",
       "    </tr>\n",
       "    <tr>\n",
       "      <th>32985</th>\n",
       "      <td>Maybe being a government bureaucrat is not the...</td>\n",
       "      <td>negative</td>\n",
       "    </tr>\n",
       "    <tr>\n",
       "      <th>41133</th>\n",
       "      <td>A true masterpiece of the Soviet cinematograph...</td>\n",
       "      <td>positive</td>\n",
       "    </tr>\n",
       "    <tr>\n",
       "      <th>9273</th>\n",
       "      <td>This movie has such inexorable B class cheapne...</td>\n",
       "      <td>negative</td>\n",
       "    </tr>\n",
       "    <tr>\n",
       "      <th>12784</th>\n",
       "      <td>The first installment of this notorious horror...</td>\n",
       "      <td>positive</td>\n",
       "    </tr>\n",
       "    <tr>\n",
       "      <th>43992</th>\n",
       "      <td>\"Idiocracy\" is the latest film to come from Mi...</td>\n",
       "      <td>positive</td>\n",
       "    </tr>\n",
       "    <tr>\n",
       "      <th>33452</th>\n",
       "      <td>*Spoilers - sorry!* The first word that sprung...</td>\n",
       "      <td>negative</td>\n",
       "    </tr>\n",
       "    <tr>\n",
       "      <th>6342</th>\n",
       "      <td>I'm not saying that because the production val...</td>\n",
       "      <td>negative</td>\n",
       "    </tr>\n",
       "  </tbody>\n",
       "</table>\n",
       "</div>"
      ],
      "text/plain": [
       "                                                    text     Label\n",
       "18165  The film version of Alice Walker's hugely emot...  positive\n",
       "36059  I as a Christian am outraged after seeing just...  negative\n",
       "13242  This movie will always be a Broadway and Movie...  positive\n",
       "32985  Maybe being a government bureaucrat is not the...  negative\n",
       "41133  A true masterpiece of the Soviet cinematograph...  positive\n",
       "9273   This movie has such inexorable B class cheapne...  negative\n",
       "12784  The first installment of this notorious horror...  positive\n",
       "43992  \"Idiocracy\" is the latest film to come from Mi...  positive\n",
       "33452  *Spoilers - sorry!* The first word that sprung...  negative\n",
       "6342   I'm not saying that because the production val...  negative"
      ]
     },
     "execution_count": 11,
     "metadata": {},
     "output_type": "execute_result"
    }
   ],
   "source": [
    "pd.DataFrame({'text':X_train,'Label':y_train}).head(10)"
   ]
  },
  {
   "cell_type": "markdown",
   "metadata": {},
   "source": [
    "**3. Transform text into a characteristic matrix**"
   ]
  },
  {
   "cell_type": "code",
   "execution_count": 12,
   "metadata": {
    "execution": {
     "iopub.execute_input": "2024-06-02T06:31:35.688389Z",
     "iopub.status.busy": "2024-06-02T06:31:35.687962Z",
     "iopub.status.idle": "2024-06-02T06:31:45.765779Z",
     "shell.execute_reply": "2024-06-02T06:31:45.764575Z",
     "shell.execute_reply.started": "2024-06-02T06:31:35.688349Z"
    },
    "trusted": true
   },
   "outputs": [],
   "source": [
    "from sklearn.feature_extraction.text import CountVectorizer\n",
    "\n",
    "vectorizer = CountVectorizer()\n",
    "X_train_counts = vectorizer.fit_transform(X_train)\n",
    "X_test_counts = vectorizer.transform(X_test)"
   ]
  },
  {
   "cell_type": "markdown",
   "metadata": {},
   "source": [
    "this is the first 10 element of dict:"
   ]
  },
  {
   "cell_type": "code",
   "execution_count": 13,
   "metadata": {
    "execution": {
     "iopub.execute_input": "2024-06-02T06:31:45.768205Z",
     "iopub.status.busy": "2024-06-02T06:31:45.767564Z",
     "iopub.status.idle": "2024-06-02T06:31:45.773988Z",
     "shell.execute_reply": "2024-06-02T06:31:45.772868Z",
     "shell.execute_reply.started": "2024-06-02T06:31:45.768172Z"
    },
    "trusted": true
   },
   "outputs": [
    {
     "name": "stdout",
     "output_type": "stream",
     "text": [
      "the : 82288\n",
      "film : 30347\n",
      "version : 88246\n",
      "of : 58174\n",
      "alice : 3297\n",
      "walker : 89329\n",
      "hugely : 39630\n",
      "emotive : 26794\n",
      "and : 4095\n",
      "influential : 41504\n"
     ]
    }
   ],
   "source": [
    "cnt = 0\n",
    "for word,i in vectorizer.vocabulary_.items():\n",
    "    print(f'{word} : {i}')\n",
    "    cnt +=1\n",
    "    if(cnt==10): break"
   ]
  },
  {
   "cell_type": "markdown",
   "metadata": {},
   "source": [
    "Create a vector whose size coincides with the frequency vector (dictionary), bearing the value 1 where it appears in the dictionary, and 0 if it does not appear"
   ]
  },
  {
   "cell_type": "code",
   "execution_count": 14,
   "metadata": {
    "execution": {
     "iopub.execute_input": "2024-06-02T06:31:45.776178Z",
     "iopub.status.busy": "2024-06-02T06:31:45.775721Z",
     "iopub.status.idle": "2024-06-02T06:31:45.787528Z",
     "shell.execute_reply": "2024-06-02T06:31:45.785973Z",
     "shell.execute_reply.started": "2024-06-02T06:31:45.77613Z"
    },
    "trusted": true
   },
   "outputs": [
    {
     "name": "stdout",
     "output_type": "stream",
     "text": [
      "[[0 0 0 ... 0 0 0]]\n"
     ]
    }
   ],
   "source": [
    "new_sentence = [\"in an apartment\"]  # Đặt chuỗi vào danh sách\n",
    "new_sentence_vector = vectorizer.transform(new_sentence).toarray()\n",
    "print(new_sentence_vector)\n"
   ]
  },
  {
   "cell_type": "markdown",
   "metadata": {},
   "source": [
    "It returns a sparse matrix where the elements corresponding to the words in the new sentence are 1, and the rest are 0. These are the non-zero elements in the vector."
   ]
  },
  {
   "cell_type": "code",
   "execution_count": 14,
   "metadata": {
    "execution": {
     "iopub.execute_input": "2024-06-02T06:31:45.789741Z",
     "iopub.status.busy": "2024-06-02T06:31:45.789252Z",
     "iopub.status.idle": "2024-06-02T06:31:45.800221Z",
     "shell.execute_reply": "2024-06-02T06:31:45.798834Z",
     "shell.execute_reply.started": "2024-06-02T06:31:45.789695Z"
    },
    "trusted": true
   },
   "outputs": [
    {
     "name": "stdout",
     "output_type": "stream",
     "text": [
      "[1 1 1]\n"
     ]
    }
   ],
   "source": [
    "nonZero = new_sentence_vector[new_sentence_vector !=0 ]\n",
    "print(nonZero)"
   ]
  },
  {
   "cell_type": "markdown",
   "metadata": {},
   "source": [
    "# 2. Naive Bayes model training"
   ]
  },
  {
   "cell_type": "code",
   "execution_count": 25,
   "metadata": {},
   "outputs": [
    {
     "name": "stdout",
     "output_type": "stream",
     "text": [
      "--- Voting Classifier with Soft Voting ---\n",
      "Accuracy: 0.8849\n",
      "F1 Score: 0.8847189469499229\n",
      "Classification Report:\n",
      "               precision    recall  f1-score   support\n",
      "\n",
      "    negative       0.86      0.92      0.89      5055\n",
      "    positive       0.91      0.85      0.88      4945\n",
      "\n",
      "    accuracy                           0.88     10000\n",
      "   macro avg       0.89      0.88      0.88     10000\n",
      "weighted avg       0.89      0.88      0.88     10000\n",
      "\n"
     ]
    }
   ],
   "source": [
    "import matplotlib.pyplot as plt\n",
    "from sklearn.metrics import accuracy_score, classification_report, confusion_matrix, roc_curve, auc, f1_score\n",
    "from sklearn.model_selection import train_test_split, cross_val_score\n",
    "from sklearn.ensemble import VotingClassifier\n",
    "from sklearn.linear_model import LogisticRegression\n",
    "from sklearn.naive_bayes import MultinomialNB, BernoulliNB, ComplementNB\n",
    "from sklearn.feature_extraction.text import TfidfVectorizer\n",
    "from sklearn.preprocessing import label_binarize\n",
    "from imblearn.under_sampling import RandomUnderSampler\n",
    "import numpy as np\n",
    "\n",
    "# 假设 df 是加载的 IMDB 数据集，包含 'text' 和 'label' 列\n",
    "X = df['text']\n",
    "y = df['label']\n",
    "X_train, X_test, y_train, y_test = train_test_split(X, y, test_size=0.2, random_state=42)\n",
    "\n",
    "# 使用 TfidfVectorizer 提取特征，并移除停用词，同时设置 n-grams 范围\n",
    "vectorizer = TfidfVectorizer(stop_words='english', ngram_range=(1, 3))\n",
    "X_train_tfidf = vectorizer.fit_transform(X_train)\n",
    "X_test_tfidf = vectorizer.transform(X_test)\n",
    "\n",
    "# 数据平衡：使用 RandomUnderSampler 进行下采样\n",
    "rus = RandomUnderSampler(random_state=42)\n",
    "X_train_resampled, y_train_resampled = rus.fit_resample(X_train_tfidf, y_train)\n",
    "\n",
    "\n",
    "# 定义多个分类模型并加入集成器\n",
    "models = [\n",
    "    ('MultinomialNB', MultinomialNB(alpha=0.1)),\n",
    "    ('BernoulliNB', BernoulliNB(alpha=0.1)),\n",
    "    ('ComplementNB', ComplementNB(alpha=0.1)),\n",
    "    ('Logistic Regression', LogisticRegression(max_iter=1000)),\n",
    "]\n",
    "\n",
    "# 创建 VotingClassifier，使用软投票\n",
    "ensemble_model = VotingClassifier(estimators=models, voting='soft')\n",
    "\n",
    "# 训练集成模型\n",
    "ensemble_model.fit(X_train_tfidf, y_train)\n",
    "\n",
    "# 在测试集上进行预测\n",
    "y_pred = ensemble_model.predict(X_test_tfidf)\n",
    "y_pred_proba = ensemble_model.predict_proba(X_test_tfidf)\n",
    "\n",
    "# 评估指标\n",
    "accuracy = accuracy_score(y_test, y_pred)\n",
    "report = classification_report(y_test, y_pred)\n",
    "conf_matrix = confusion_matrix(y_test, y_pred)\n",
    "f1 = f1_score(y_test, y_pred, average='weighted')\n",
    "\n",
    "# 输出结果\n",
    "print('--- Voting Classifier with Soft Voting ---')\n",
    "print(f'Accuracy: {accuracy}')\n",
    "print('F1 Score:', f1)\n",
    "print('Classification Report:\\n', report)"
   ]
  },
  {
   "cell_type": "code",
   "execution_count": null,
   "metadata": {},
   "outputs": [],
   "source": []
  },
  {
   "cell_type": "code",
   "execution_count": 26,
   "metadata": {},
   "outputs": [
    {
     "data": {
      "image/png": "[encoded data removed]",
      "text/plain": [
       "<Figure size 600x500 with 2 Axes>"
      ]
     },
     "metadata": {},
     "output_type": "display_data"
    }
   ],
   "source": [
    "# 计算混淆矩阵\n",
    "conf_matrix = confusion_matrix(y_test, y_pred)\n",
    "\n",
    "# 绘制带数字的混淆矩阵\n",
    "plt.figure(figsize=(6, 5))\n",
    "plt.matshow(conf_matrix, cmap='Blues', fignum=1)\n",
    "plt.colorbar()\n",
    "plt.xlabel('Predicted Label')\n",
    "plt.ylabel('True Label')\n",
    "plt.title('Confusion Matrix')\n",
    "\n",
    "# 在每个方格中显示对应的数值\n",
    "for i in range(conf_matrix.shape[0]):\n",
    "    for j in range(conf_matrix.shape[1]):\n",
    "        plt.text(j, i, f'{conf_matrix[i, j]}', ha='center', va='center', color='black')\n",
    "\n",
    "plt.show()"
   ]
  },
  {
   "cell_type": "code",
   "execution_count": 27,
   "metadata": {},
   "outputs": [
    {
     "data": {
      "image/png": "[encoded data removed]",
      "text/plain": [
       "<Figure size 600x400 with 1 Axes>"
      ]
     },
     "metadata": {},
     "output_type": "display_data"
    }
   ],
   "source": [
    "\n",
    "# 绘制 F1 得分条形图\n",
    "f1_scores = classification_report(y_test, y_pred, output_dict=True)\n",
    "f1_values = [f1_scores[str(label)]['f1-score'] for label in set(y_test)]\n",
    "labels = list(set(y_test))\n",
    "\n",
    "plt.figure(figsize=(6, 4))\n",
    "plt.bar(labels, f1_values, color='skyblue')\n",
    "plt.xlabel('Class Labels')\n",
    "plt.ylabel('F1 Score')\n",
    "plt.title('F1 Scores per Class')\n",
    "plt.show()"
   ]
  },
  {
   "cell_type": "code",
   "execution_count": 28,
   "metadata": {},
   "outputs": [
    {
     "name": "stdout",
     "output_type": "stream",
     "text": [
      "Predicted sentiment is Negative\n"
     ]
    }
   ],
   "source": [
    "def predict_sentiment(text):\n",
    "    # 使用训练好的 vectorizer 将文本转换为 TF-IDF 特征向量\n",
    "    text_tfidf = vectorizer.transform([text])\n",
    "    # 使用训练好的集成模型进行预测\n",
    "    prediction = ensemble_model.predict(text_tfidf)[0]\n",
    "    return \"Positive\" if prediction == 1 else \"Negative\"\n",
    "\n",
    "# 示例：预测一条新的影评\n",
    "new_review = \"not bad\"\n",
    "print(f\"Predicted sentiment is {predict_sentiment(new_review)}\")\n"
   ]
  },
  {
   "cell_type": "code",
   "execution_count": null,
   "metadata": {},
   "outputs": [
    {
     "name": "stdout",
     "output_type": "stream",
     "text": [
      "--- MultinomialNB ---\n",
      "用户评价: This movie was absolutely fantastic! Great plot and amazing actors.\n",
      "分类结果: 正面评价\n",
      "预测概率: ['0.11', '0.89']\n",
      "\n",
      "\n",
      "--- BernoulliNB ---\n",
      "用户评价: This movie was absolutely fantastic! Great plot and amazing actors.\n",
      "分类结果: 正面评价\n",
      "预测概率: ['0.17', '0.83']\n",
      "\n",
      "\n",
      "--- ComplementNB ---\n",
      "用户评价: This movie was absolutely fantastic! Great plot and amazing actors.\n",
      "分类结果: 正面评价\n",
      "预测概率: ['0.11', '0.89']\n",
      "\n",
      "\n",
      "--- Logistic Regression ---\n",
      "用户评价: This movie was absolutely fantastic! Great plot and amazing actors.\n",
      "分类结果: 正面评价\n",
      "预测概率: ['0.12', '0.88']\n",
      "\n",
      "\n"
     ]
    }
   ],
   "source": [
    "def test_individual_models(review_text):\n",
    "    # 检查用户输入是否为空\n",
    "    if not review_text.strip():\n",
    "        print(\"输入为空，请输入有效的评论文本。\")\n",
    "        return\n",
    "    \n",
    "    # 将用户输入的文本转化为TF-IDF特征\n",
    "    review_tfidf = vectorizer.transform([review_text])\n",
    "\n",
    "    # 遍历每个单独模型，训练并预测\n",
    "    for name, model in models:\n",
    "        # 训练模型\n",
    "        model.fit(X_train_tfidf, y_train)\n",
    "        \n",
    "        # 对用户评价进行预测\n",
    "        prediction = model.predict(review_tfidf)\n",
    "        prediction_proba = model.predict_proba(review_tfidf) if hasattr(model, \"predict_proba\") else None\n",
    "\n",
    "        # 输出结果\n",
    "        print(f\"--- {name} ---\")\n",
    "        print(\"用户评价:\", review_text)\n",
    "        # 将预测结果转换为 positive 和 negative\n",
    "        print(\"分类结果:\", \"正面评价\" if prediction[0] == 'positive' else \"负面评价\")\n",
    "        if prediction_proba is not None:\n",
    "            print(\"预测概率:\", [f\"{p:.2f}\" for p in prediction_proba[0]])  # 格式化概率输出为小数点后两位\n",
    "        else:\n",
    "            print(\"该模型不支持预测概率输出。\")\n",
    "        print(\"\\n\")\n"
   ]
  },
  {
   "cell_type": "code",
   "execution_count": 34,
   "metadata": {},
   "outputs": [
    {
     "name": "stdout",
     "output_type": "stream",
     "text": [
      "--- MultinomialNB ---\n",
      "用户评价: This movie was absolutely fantastic! Great plot and amazing actors.\n",
      "分类结果: 正面评价\n",
      "预测概率: ['0.11', '0.89']\n",
      "\n",
      "\n",
      "--- BernoulliNB ---\n",
      "用户评价: This movie was absolutely fantastic! Great plot and amazing actors.\n",
      "分类结果: 正面评价\n",
      "预测概率: ['0.17', '0.83']\n",
      "\n",
      "\n",
      "--- ComplementNB ---\n",
      "用户评价: This movie was absolutely fantastic! Great plot and amazing actors.\n",
      "分类结果: 正面评价\n",
      "预测概率: ['0.11', '0.89']\n",
      "\n",
      "\n",
      "--- Logistic Regression ---\n",
      "用户评价: This movie was absolutely fantastic! Great plot and amazing actors.\n",
      "分类结果: 正面评价\n",
      "预测概率: ['0.12', '0.88']\n",
      "\n",
      "\n",
      "--- MultinomialNB ---\n",
      "用户评价: The movie was a complete waste of time. Terrible acting and a boring plot.\n",
      "分类结果: 负面评价\n",
      "预测概率: ['1.00', '0.00']\n",
      "\n",
      "\n",
      "--- BernoulliNB ---\n",
      "用户评价: The movie was a complete waste of time. Terrible acting and a boring plot.\n",
      "分类结果: 负面评价\n",
      "预测概率: ['1.00', '0.00']\n",
      "\n",
      "\n",
      "--- ComplementNB ---\n",
      "用户评价: The movie was a complete waste of time. Terrible acting and a boring plot.\n",
      "分类结果: 负面评价\n",
      "预测概率: ['1.00', '0.00']\n",
      "\n",
      "\n",
      "--- Logistic Regression ---\n",
      "用户评价: The movie was a complete waste of time. Terrible acting and a boring plot.\n",
      "分类结果: 负面评价\n",
      "预测概率: ['0.99', '0.01']\n",
      "\n",
      "\n",
      "--- MultinomialNB ---\n",
      "用户评价: It was an average film. Not bad, but not great either.\n",
      "分类结果: 负面评价\n",
      "预测概率: ['0.82', '0.18']\n",
      "\n",
      "\n",
      "--- BernoulliNB ---\n",
      "用户评价: It was an average film. Not bad, but not great either.\n",
      "分类结果: 负面评价\n",
      "预测概率: ['1.00', '0.00']\n",
      "\n",
      "\n",
      "--- ComplementNB ---\n",
      "用户评价: It was an average film. Not bad, but not great either.\n",
      "分类结果: 负面评价\n",
      "预测概率: ['0.82', '0.18']\n",
      "\n",
      "\n",
      "--- Logistic Regression ---\n",
      "用户评价: It was an average film. Not bad, but not great either.\n",
      "分类结果: 负面评价\n",
      "预测概率: ['0.71', '0.29']\n",
      "\n",
      "\n",
      "--- MultinomialNB ---\n",
      "用户评价: Absolutely loved the film! One of the best I've seen in a while.\n",
      "分类结果: 正面评价\n",
      "预测概率: ['0.02', '0.98']\n",
      "\n",
      "\n",
      "--- BernoulliNB ---\n",
      "用户评价: Absolutely loved the film! One of the best I've seen in a while.\n",
      "分类结果: 正面评价\n",
      "预测概率: ['0.00', '1.00']\n",
      "\n",
      "\n",
      "--- ComplementNB ---\n",
      "用户评价: Absolutely loved the film! One of the best I've seen in a while.\n",
      "分类结果: 正面评价\n",
      "预测概率: ['0.02', '0.98']\n",
      "\n",
      "\n",
      "--- Logistic Regression ---\n",
      "用户评价: Absolutely loved the film! One of the best I've seen in a while.\n",
      "分类结果: 正面评价\n",
      "预测概率: ['0.04', '0.96']\n",
      "\n",
      "\n",
      "--- MultinomialNB ---\n",
      "用户评价: I wouldn't recommend it. The pacing was off, and the characters were shallow.\n",
      "分类结果: 负面评价\n",
      "预测概率: ['0.94', '0.06']\n",
      "\n",
      "\n",
      "--- BernoulliNB ---\n",
      "用户评价: I wouldn't recommend it. The pacing was off, and the characters were shallow.\n",
      "分类结果: 负面评价\n",
      "预测概率: ['1.00', '0.00']\n",
      "\n",
      "\n",
      "--- ComplementNB ---\n",
      "用户评价: I wouldn't recommend it. The pacing was off, and the characters were shallow.\n",
      "分类结果: 负面评价\n",
      "预测概率: ['0.94', '0.06']\n",
      "\n",
      "\n",
      "--- Logistic Regression ---\n",
      "用户评价: I wouldn't recommend it. The pacing was off, and the characters were shallow.\n",
      "分类结果: 负面评价\n",
      "预测概率: ['0.77', '0.23']\n",
      "\n",
      "\n"
     ]
    }
   ],
   "source": [
    "# 示例测试\n",
    "test_individual_models(\"This movie was absolutely fantastic! Great plot and amazing actors.\")\n",
    "test_individual_models(\"The movie was a complete waste of time. Terrible acting and a boring plot.\")\n",
    "test_individual_models(\"It was an average film. Not bad, but not great either.\")\n",
    "test_individual_models(\"Absolutely loved the film! One of the best I've seen in a while.\")\n",
    "test_individual_models(\"I wouldn't recommend it. The pacing was off, and the characters were shallow.\")"
   ]
  },
  {
   "cell_type": "code",
   "execution_count": 15,
   "metadata": {},
   "outputs": [
    {
     "name": "stdout",
     "output_type": "stream",
     "text": [
      "--- Voting Classifier with Soft Voting ---\n",
      "Accuracy: 0.8845\n",
      "F1 Score: 0.8842973457578294\n",
      "Classification Report:\n",
      "               precision    recall  f1-score   support\n",
      "\n",
      "    negative       0.86      0.92      0.89      5055\n",
      "    positive       0.91      0.85      0.88      4945\n",
      "\n",
      "    accuracy                           0.88     10000\n",
      "   macro avg       0.89      0.88      0.88     10000\n",
      "weighted avg       0.89      0.88      0.88     10000\n",
      "\n"
     ]
    },
    {
     "data": {
      "image/png": "[encoded data removed]",
      "text/plain": [
       "<Figure size 800x600 with 2 Axes>"
      ]
     },
     "metadata": {},
     "output_type": "display_data"
    },
    {
     "name": "stderr",
     "output_type": "stream",
     "text": [
      "c:\\Users\\89556\\.conda\\envs\\ML\\Lib\\site-packages\\sklearn\\metrics\\_ranking.py:1183: UndefinedMetricWarning: No positive samples in y_true, true positive value should be meaningless\n",
      "  warnings.warn(\n"
     ]
    },
    {
     "data": {
      "image/png": "[encoded data removed]",
      "text/plain": [
       "<Figure size 800x600 with 1 Axes>"
      ]
     },
     "metadata": {},
     "output_type": "display_data"
    },
    {
     "data": {
      "image/png": "[encoded data removed]",
      "text/plain": [
       "<Figure size 800x600 with 1 Axes>"
      ]
     },
     "metadata": {},
     "output_type": "display_data"
    }
   ],
   "source": [
    "import matplotlib.pyplot as plt\n",
    "from sklearn.metrics import accuracy_score, classification_report, confusion_matrix, roc_curve, auc, f1_score\n",
    "from sklearn.model_selection import train_test_split, cross_val_score\n",
    "from sklearn.ensemble import VotingClassifier\n",
    "from sklearn.linear_model import LogisticRegression\n",
    "from sklearn.naive_bayes import MultinomialNB, BernoulliNB, ComplementNB\n",
    "from sklearn.feature_extraction.text import TfidfVectorizer\n",
    "from sklearn.preprocessing import label_binarize\n",
    "from imblearn.under_sampling import RandomUnderSampler\n",
    "import numpy as np\n",
    "\n",
    "# 假设 df 是加载的 IMDB 数据集，包含 'text' 和 'label' 列\n",
    "X = df['text']\n",
    "y = df['label']\n",
    "X_train, X_test, y_train, y_test = train_test_split(X, y, test_size=0.2, random_state=42)\n",
    "\n",
    "# 使用 TfidfVectorizer 提取特征，并移除停用词，同时设置 n-grams 范围\n",
    "vectorizer = TfidfVectorizer(stop_words='english', ngram_range=(1, 3))\n",
    "X_train_tfidf = vectorizer.fit_transform(X_train)\n",
    "X_test_tfidf = vectorizer.transform(X_test)\n",
    "\n",
    "# 数据平衡：使用 RandomUnderSampler 进行下采样\n",
    "rus = RandomUnderSampler(random_state=42)\n",
    "X_train_resampled, y_train_resampled = rus.fit_resample(X_train_tfidf, y_train)\n",
    "\n",
    "# 定义多个分类模型并加入集成器\n",
    "models = [\n",
    "    ('MultinomialNB', MultinomialNB(alpha=0.1)),\n",
    "    ('BernoulliNB', BernoulliNB(alpha=0.1)),\n",
    "    ('ComplementNB', ComplementNB(alpha=0.1)),\n",
    "    ('Logistic Regression', LogisticRegression(max_iter=1000)),\n",
    "]\n",
    "\n",
    "# 创建 VotingClassifier，使用软投票\n",
    "ensemble_model = VotingClassifier(estimators=models, voting='soft')\n",
    "\n",
    "# 训练集成模型\n",
    "ensemble_model.fit(X_train_resampled, y_train_resampled)\n",
    "\n",
    "# 在测试集上进行预测\n",
    "y_pred = ensemble_model.predict(X_test_tfidf)\n",
    "y_pred_proba = ensemble_model.predict_proba(X_test_tfidf)\n",
    "\n",
    "# 评估指标\n",
    "accuracy = accuracy_score(y_test, y_pred)\n",
    "report = classification_report(y_test, y_pred)\n",
    "conf_matrix = confusion_matrix(y_test, y_pred)\n",
    "f1 = f1_score(y_test, y_pred, average='weighted')\n",
    "\n",
    "# 输出结果\n",
    "print('--- Voting Classifier with Soft Voting ---')\n",
    "print(f'Accuracy: {accuracy}')\n",
    "print('F1 Score:', f1)\n",
    "print('Classification Report:\\n', report)\n",
    "\n",
    "# 绘制混淆矩阵\n",
    "plt.figure(figsize=(8, 6))\n",
    "plt.title('Confusion Matrix')\n",
    "plt.imshow(conf_matrix, interpolation='nearest', cmap=plt.cm.Blues)\n",
    "plt.colorbar()\n",
    "classes = ['Negative', 'Positive']\n",
    "tick_marks = np.arange(len(classes))\n",
    "plt.xticks(tick_marks, classes, rotation=45)\n",
    "plt.yticks(tick_marks, classes)\n",
    "plt.xlabel('Predicted label')\n",
    "plt.ylabel('True label')\n",
    "plt.tight_layout()\n",
    "plt.show()\n",
    "\n",
    "# 计算并绘制 ROC 曲线\n",
    "y_test_bin = label_binarize(y_test, classes=[0, 1])  # 将标签二值化\n",
    "fpr, tpr, thresholds = roc_curve(y_test_bin, y_pred_proba[:, 1])\n",
    "roc_auc = auc(fpr, tpr)\n",
    "\n",
    "plt.figure(figsize=(8, 6))\n",
    "plt.plot(fpr, tpr, color='blue', lw=2, label=f'ROC curve (area = {roc_auc:.4f})')\n",
    "plt.plot([0, 1], [0, 1], color='gray', linestyle='--')\n",
    "plt.xlabel('False Positive Rate')\n",
    "plt.ylabel('True Positive Rate')\n",
    "plt.title('Receiver Operating Characteristic (ROC) Curve')\n",
    "plt.legend(loc='lower right')\n",
    "plt.grid(True)\n",
    "plt.show()\n",
    "\n",
    "# 绘制准确率变化曲线\n",
    "# 如果我们想要记录每次模型训练过程中准确率变化并绘制出来，可以通过交叉验证来跟踪这些结果：\n",
    "cross_val_accuracies = cross_val_score(ensemble_model, X_train_resampled, y_train_resampled, cv=5, scoring='accuracy')\n",
    "\n",
    "plt.figure(figsize=(8, 6))\n",
    "plt.plot(range(1, len(cross_val_accuracies) + 1), cross_val_accuracies, marker='o', color='green')\n",
    "plt.xlabel('Fold')\n",
    "plt.ylabel('Accuracy')\n",
    "plt.title('Cross Validation Accuracy Scores')\n",
    "plt.grid(True)\n",
    "plt.show()\n"
   ]
  }
 ],
 "metadata": {
  "kaggle": {
   "accelerator": "none",
   "dataSources": [
    {
     "datasetId": 2649037,
     "sourceId": 4533800,
     "sourceType": "datasetVersion"
    }
   ],
   "dockerImageVersionId": 30715,
   "isGpuEnabled": false,
   "isInternetEnabled": false,
   "language": "python",
   "sourceType": "notebook"
  },
  "kernelspec": {
   "display_name": "ML",
   "language": "python",
   "name": "python3"
  },
  "language_info": {
   "codemirror_mode": {
    "name": "ipython",
    "version": 3
   },
   "file_extension": ".py",
   "mimetype": "text/x-python",
   "name": "python",
   "nbconvert_exporter": "python",
   "pygments_lexer": "ipython3",
   "version": "3.12.5"
  }
 },
 "nbformat": 4,
 "nbformat_minor": 4
}
